{
 "cells": [
  {
   "cell_type": "code",
   "execution_count": 2,
   "metadata": {},
   "outputs": [
    {
     "name": "stdout",
     "output_type": "stream",
     "text": [
      "Mean: [0.19240434 0.16837405 0.20262092]\n",
      "Standard Deviation: [0.18612613 0.17387361 0.19018272]\n"
     ]
    }
   ],
   "source": [
    "from PIL import Image\n",
    "import numpy as np\n",
    "import os\n",
    "\n",
    "root = \"F:/study/ML_project/ML_AI_project_HuiShi/LISA_traffic_light_detection.v3i.multiclass\" # --> change here\n",
    "train_folder_path = os.path.join(root, \"train\")\n",
    "\n",
    "# compute mean and std of the dataset\n",
    "def compute_mean_and_std(image_folder):\n",
    "\n",
    "    image_files = [os.path.join(image_folder, file) for file in os.listdir(image_folder) if file.endswith('jpg')]\n",
    "\n",
    "    mean_sum = np.zeros(3)\n",
    "    std_sum = np.zeros(3)\n",
    "    # Loop through each image and calculate mean and std\n",
    "    for image_file in image_files:\n",
    "        image = Image.open(image_file).convert('RGB')\n",
    "        image_array = np.array(image) / 255.0  # Normalize pixel values to the range [0, 1]\n",
    "        \n",
    "        # Accumulate sums for each channel\n",
    "        mean_sum += np.mean(image_array, axis=(0, 1))\n",
    "        std_sum += np.std(image_array, axis=(0, 1))\n",
    "\n",
    "    # Calculate mean and std over all images\n",
    "    total_images = len(image_files)\n",
    "    mean = mean_sum / total_images\n",
    "    std = std_sum / total_images\n",
    "\n",
    "    return mean, std\n",
    "\n",
    "# Compute mean and std\n",
    "mean, std = compute_mean_and_std(train_folder_path)\n",
    "print(f\"Mean: {mean}\")\n",
    "print(f\"Standard Deviation: {std}\")\n"
   ]
  }
 ],
 "metadata": {
  "kernelspec": {
   "display_name": "deepLearning",
   "language": "python",
   "name": "python3"
  },
  "language_info": {
   "codemirror_mode": {
    "name": "ipython",
    "version": 3
   },
   "file_extension": ".py",
   "mimetype": "text/x-python",
   "name": "python",
   "nbconvert_exporter": "python",
   "pygments_lexer": "ipython3",
   "version": "3.8.18"
  }
 },
 "nbformat": 4,
 "nbformat_minor": 2
}
